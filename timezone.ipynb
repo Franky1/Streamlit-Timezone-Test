{
 "cells": [
  {
   "cell_type": "code",
   "execution_count": null,
   "metadata": {},
   "outputs": [],
   "source": [
    "from datetime import datetime\n",
    "import time"
   ]
  },
  {
   "cell_type": "code",
   "execution_count": null,
   "metadata": {},
   "outputs": [],
   "source": [
    "local_now = datetime.now().astimezone()\n",
    "print(local_now.isoformat())\n",
    "print(local_now.tzname())"
   ]
  },
  {
   "cell_type": "code",
   "execution_count": null,
   "metadata": {},
   "outputs": [],
   "source": [
    "print(time.timezone)\n",
    "print(time.tzname)"
   ]
  },
  {
   "cell_type": "code",
   "execution_count": null,
   "metadata": {},
   "outputs": [],
   "source": [
    "local_time = time.localtime()\n",
    "print(local_time)\n",
    "print(local_time.tm_zone)\n",
    "print(local_time.tm_isdst)"
   ]
  }
 ],
 "metadata": {
  "interpreter": {
   "hash": "e3506075b564da0fbbc30688af6a2b39529d64bf5e4f4c92f2ef8a0d6be8ba46"
  },
  "kernelspec": {
   "display_name": "Python 3.7.7 64-bit (system)",
   "language": "python",
   "name": "python3"
  },
  "language_info": {
   "codemirror_mode": {
    "name": "ipython",
    "version": 3
   },
   "file_extension": ".py",
   "mimetype": "text/x-python",
   "name": "python",
   "nbconvert_exporter": "python",
   "pygments_lexer": "ipython3",
   "version": "3.7.7"
  },
  "orig_nbformat": 4
 },
 "nbformat": 4,
 "nbformat_minor": 2
}
